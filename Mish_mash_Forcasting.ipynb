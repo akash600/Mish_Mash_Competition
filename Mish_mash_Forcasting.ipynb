{
 "cells": [
  {
   "cell_type": "code",
   "execution_count": 1,
   "metadata": {},
   "outputs": [],
   "source": [
    "import numpy as np\n",
    "import pandas as pd\n",
    "import statsmodels.api as sm\n",
    "import matplotlib.pyplot as plt\n",
    "%matplotlib inline"
   ]
  },
  {
   "cell_type": "code",
   "execution_count": 2,
   "metadata": {},
   "outputs": [],
   "source": [
    "df='D:/Mish mash/Test dataset v2.xlsx'"
   ]
  },
  {
   "cell_type": "code",
   "execution_count": 3,
   "metadata": {},
   "outputs": [],
   "source": [
    "df=pd.read_excel(df)"
   ]
  },
  {
   "cell_type": "code",
   "execution_count": 4,
   "metadata": {},
   "outputs": [
    {
     "data": {
      "text/html": [
       "<div>\n",
       "<style scoped>\n",
       "    .dataframe tbody tr th:only-of-type {\n",
       "        vertical-align: middle;\n",
       "    }\n",
       "\n",
       "    .dataframe tbody tr th {\n",
       "        vertical-align: top;\n",
       "    }\n",
       "\n",
       "    .dataframe thead th {\n",
       "        text-align: right;\n",
       "    }\n",
       "</style>\n",
       "<table border=\"1\" class=\"dataframe\">\n",
       "  <thead>\n",
       "    <tr style=\"text-align: right;\">\n",
       "      <th></th>\n",
       "      <th>Period</th>\n",
       "      <th>First_Day_Period</th>\n",
       "      <th>PERIOD</th>\n",
       "      <th>EQ</th>\n",
       "    </tr>\n",
       "  </thead>\n",
       "  <tbody>\n",
       "    <tr>\n",
       "      <td>0</td>\n",
       "      <td>2016 - Period:1</td>\n",
       "      <td>2016-01-01</td>\n",
       "      <td>2016-01-28</td>\n",
       "      <td>504.784933</td>\n",
       "    </tr>\n",
       "    <tr>\n",
       "      <td>1</td>\n",
       "      <td>2016 - Period:2</td>\n",
       "      <td>2016-01-29</td>\n",
       "      <td>2016-02-25</td>\n",
       "      <td>490.226477</td>\n",
       "    </tr>\n",
       "    <tr>\n",
       "      <td>2</td>\n",
       "      <td>2016 - Period:3</td>\n",
       "      <td>2016-02-26</td>\n",
       "      <td>2016-03-24</td>\n",
       "      <td>479.244686</td>\n",
       "    </tr>\n",
       "    <tr>\n",
       "      <td>3</td>\n",
       "      <td>2016 - Period:4</td>\n",
       "      <td>2016-03-25</td>\n",
       "      <td>2016-04-21</td>\n",
       "      <td>489.057428</td>\n",
       "    </tr>\n",
       "    <tr>\n",
       "      <td>4</td>\n",
       "      <td>2016 - Period:5</td>\n",
       "      <td>2016-04-22</td>\n",
       "      <td>2016-05-19</td>\n",
       "      <td>477.031994</td>\n",
       "    </tr>\n",
       "  </tbody>\n",
       "</table>\n",
       "</div>"
      ],
      "text/plain": [
       "            Period First_Day_Period     PERIOD          EQ\n",
       "0  2016 - Period:1       2016-01-01 2016-01-28  504.784933\n",
       "1  2016 - Period:2       2016-01-29 2016-02-25  490.226477\n",
       "2  2016 - Period:3       2016-02-26 2016-03-24  479.244686\n",
       "3  2016 - Period:4       2016-03-25 2016-04-21  489.057428\n",
       "4  2016 - Period:5       2016-04-22 2016-05-19  477.031994"
      ]
     },
     "execution_count": 4,
     "metadata": {},
     "output_type": "execute_result"
    }
   ],
   "source": [
    "df.head()"
   ]
  },
  {
   "cell_type": "code",
   "execution_count": 5,
   "metadata": {},
   "outputs": [],
   "source": [
    "df.drop(['Period','First_Day_Period'],axis=1,inplace=True)"
   ]
  },
  {
   "cell_type": "code",
   "execution_count": 6,
   "metadata": {},
   "outputs": [
    {
     "data": {
      "text/html": [
       "<div>\n",
       "<style scoped>\n",
       "    .dataframe tbody tr th:only-of-type {\n",
       "        vertical-align: middle;\n",
       "    }\n",
       "\n",
       "    .dataframe tbody tr th {\n",
       "        vertical-align: top;\n",
       "    }\n",
       "\n",
       "    .dataframe thead th {\n",
       "        text-align: right;\n",
       "    }\n",
       "</style>\n",
       "<table border=\"1\" class=\"dataframe\">\n",
       "  <thead>\n",
       "    <tr style=\"text-align: right;\">\n",
       "      <th></th>\n",
       "      <th>PERIOD</th>\n",
       "      <th>EQ</th>\n",
       "    </tr>\n",
       "  </thead>\n",
       "  <tbody>\n",
       "    <tr>\n",
       "      <td>0</td>\n",
       "      <td>2016-01-28</td>\n",
       "      <td>504.784933</td>\n",
       "    </tr>\n",
       "    <tr>\n",
       "      <td>1</td>\n",
       "      <td>2016-02-25</td>\n",
       "      <td>490.226477</td>\n",
       "    </tr>\n",
       "    <tr>\n",
       "      <td>2</td>\n",
       "      <td>2016-03-24</td>\n",
       "      <td>479.244686</td>\n",
       "    </tr>\n",
       "    <tr>\n",
       "      <td>3</td>\n",
       "      <td>2016-04-21</td>\n",
       "      <td>489.057428</td>\n",
       "    </tr>\n",
       "    <tr>\n",
       "      <td>4</td>\n",
       "      <td>2016-05-19</td>\n",
       "      <td>477.031994</td>\n",
       "    </tr>\n",
       "  </tbody>\n",
       "</table>\n",
       "</div>"
      ],
      "text/plain": [
       "      PERIOD          EQ\n",
       "0 2016-01-28  504.784933\n",
       "1 2016-02-25  490.226477\n",
       "2 2016-03-24  479.244686\n",
       "3 2016-04-21  489.057428\n",
       "4 2016-05-19  477.031994"
      ]
     },
     "execution_count": 6,
     "metadata": {},
     "output_type": "execute_result"
    }
   ],
   "source": [
    "df.head()"
   ]
  },
  {
   "cell_type": "code",
   "execution_count": 7,
   "metadata": {},
   "outputs": [
    {
     "data": {
      "text/plain": [
       "PERIOD    datetime64[ns]\n",
       "EQ               float64\n",
       "dtype: object"
      ]
     },
     "execution_count": 7,
     "metadata": {},
     "output_type": "execute_result"
    }
   ],
   "source": [
    "df.dtypes"
   ]
  },
  {
   "cell_type": "code",
   "execution_count": 8,
   "metadata": {},
   "outputs": [],
   "source": [
    "df.set_index(\"PERIOD\",inplace=True)"
   ]
  },
  {
   "cell_type": "code",
   "execution_count": 9,
   "metadata": {},
   "outputs": [
    {
     "data": {
      "text/plain": [
       "<matplotlib.axes._subplots.AxesSubplot at 0x174296989c8>"
      ]
     },
     "execution_count": 9,
     "metadata": {},
     "output_type": "execute_result"
    },
    {
     "data": {
      "image/png": "[encoded data removed]",
      "text/plain": [
       "<Figure size 432x288 with 1 Axes>"
      ]
     },
     "metadata": {
      "needs_background": "light"
     },
     "output_type": "display_data"
    }
   ],
   "source": [
    "df.plot()"
   ]
  },
  {
   "cell_type": "code",
   "execution_count": 10,
   "metadata": {},
   "outputs": [],
   "source": [
    "df_base=pd.concat([df,df.shift(1)],axis=1)"
   ]
  },
  {
   "cell_type": "code",
   "execution_count": 11,
   "metadata": {},
   "outputs": [
    {
     "data": {
      "text/html": [
       "<div>\n",
       "<style scoped>\n",
       "    .dataframe tbody tr th:only-of-type {\n",
       "        vertical-align: middle;\n",
       "    }\n",
       "\n",
       "    .dataframe tbody tr th {\n",
       "        vertical-align: top;\n",
       "    }\n",
       "\n",
       "    .dataframe thead th {\n",
       "        text-align: right;\n",
       "    }\n",
       "</style>\n",
       "<table border=\"1\" class=\"dataframe\">\n",
       "  <thead>\n",
       "    <tr style=\"text-align: right;\">\n",
       "      <th></th>\n",
       "      <th>EQ</th>\n",
       "      <th>EQ</th>\n",
       "    </tr>\n",
       "    <tr>\n",
       "      <th>PERIOD</th>\n",
       "      <th></th>\n",
       "      <th></th>\n",
       "    </tr>\n",
       "  </thead>\n",
       "  <tbody>\n",
       "    <tr>\n",
       "      <td>2016-01-28</td>\n",
       "      <td>504.784933</td>\n",
       "      <td>NaN</td>\n",
       "    </tr>\n",
       "    <tr>\n",
       "      <td>2016-02-25</td>\n",
       "      <td>490.226477</td>\n",
       "      <td>504.784933</td>\n",
       "    </tr>\n",
       "    <tr>\n",
       "      <td>2016-03-24</td>\n",
       "      <td>479.244686</td>\n",
       "      <td>490.226477</td>\n",
       "    </tr>\n",
       "    <tr>\n",
       "      <td>2016-04-21</td>\n",
       "      <td>489.057428</td>\n",
       "      <td>479.244686</td>\n",
       "    </tr>\n",
       "    <tr>\n",
       "      <td>2016-05-19</td>\n",
       "      <td>477.031994</td>\n",
       "      <td>489.057428</td>\n",
       "    </tr>\n",
       "  </tbody>\n",
       "</table>\n",
       "</div>"
      ],
      "text/plain": [
       "                    EQ          EQ\n",
       "PERIOD                            \n",
       "2016-01-28  504.784933         NaN\n",
       "2016-02-25  490.226477  504.784933\n",
       "2016-03-24  479.244686  490.226477\n",
       "2016-04-21  489.057428  479.244686\n",
       "2016-05-19  477.031994  489.057428"
      ]
     },
     "execution_count": 11,
     "metadata": {},
     "output_type": "execute_result"
    }
   ],
   "source": [
    "df_base.head()"
   ]
  },
  {
   "cell_type": "code",
   "execution_count": 12,
   "metadata": {},
   "outputs": [],
   "source": [
    "df_base.columns=['Actual_sales','Forecast_sales']"
   ]
  },
  {
   "cell_type": "code",
   "execution_count": 13,
   "metadata": {},
   "outputs": [
    {
     "data": {
      "text/html": [
       "<div>\n",
       "<style scoped>\n",
       "    .dataframe tbody tr th:only-of-type {\n",
       "        vertical-align: middle;\n",
       "    }\n",
       "\n",
       "    .dataframe tbody tr th {\n",
       "        vertical-align: top;\n",
       "    }\n",
       "\n",
       "    .dataframe thead th {\n",
       "        text-align: right;\n",
       "    }\n",
       "</style>\n",
       "<table border=\"1\" class=\"dataframe\">\n",
       "  <thead>\n",
       "    <tr style=\"text-align: right;\">\n",
       "      <th></th>\n",
       "      <th>Actual_sales</th>\n",
       "      <th>Forecast_sales</th>\n",
       "    </tr>\n",
       "    <tr>\n",
       "      <th>PERIOD</th>\n",
       "      <th></th>\n",
       "      <th></th>\n",
       "    </tr>\n",
       "  </thead>\n",
       "  <tbody>\n",
       "    <tr>\n",
       "      <td>2016-01-28</td>\n",
       "      <td>504.784933</td>\n",
       "      <td>NaN</td>\n",
       "    </tr>\n",
       "    <tr>\n",
       "      <td>2016-02-25</td>\n",
       "      <td>490.226477</td>\n",
       "      <td>504.784933</td>\n",
       "    </tr>\n",
       "    <tr>\n",
       "      <td>2016-03-24</td>\n",
       "      <td>479.244686</td>\n",
       "      <td>490.226477</td>\n",
       "    </tr>\n",
       "    <tr>\n",
       "      <td>2016-04-21</td>\n",
       "      <td>489.057428</td>\n",
       "      <td>479.244686</td>\n",
       "    </tr>\n",
       "    <tr>\n",
       "      <td>2016-05-19</td>\n",
       "      <td>477.031994</td>\n",
       "      <td>489.057428</td>\n",
       "    </tr>\n",
       "    <tr>\n",
       "      <td>2016-06-16</td>\n",
       "      <td>487.855299</td>\n",
       "      <td>477.031994</td>\n",
       "    </tr>\n",
       "    <tr>\n",
       "      <td>2016-07-14</td>\n",
       "      <td>466.399281</td>\n",
       "      <td>487.855299</td>\n",
       "    </tr>\n",
       "    <tr>\n",
       "      <td>2016-08-11</td>\n",
       "      <td>546.053084</td>\n",
       "      <td>466.399281</td>\n",
       "    </tr>\n",
       "    <tr>\n",
       "      <td>2016-09-08</td>\n",
       "      <td>464.925607</td>\n",
       "      <td>546.053084</td>\n",
       "    </tr>\n",
       "    <tr>\n",
       "      <td>2016-10-06</td>\n",
       "      <td>357.648693</td>\n",
       "      <td>464.925607</td>\n",
       "    </tr>\n",
       "    <tr>\n",
       "      <td>2016-11-03</td>\n",
       "      <td>298.553287</td>\n",
       "      <td>357.648693</td>\n",
       "    </tr>\n",
       "    <tr>\n",
       "      <td>2016-12-01</td>\n",
       "      <td>283.797430</td>\n",
       "      <td>298.553287</td>\n",
       "    </tr>\n",
       "    <tr>\n",
       "      <td>2016-12-29</td>\n",
       "      <td>239.231622</td>\n",
       "      <td>283.797430</td>\n",
       "    </tr>\n",
       "    <tr>\n",
       "      <td>2017-01-28</td>\n",
       "      <td>392.326431</td>\n",
       "      <td>239.231622</td>\n",
       "    </tr>\n",
       "    <tr>\n",
       "      <td>2017-02-25</td>\n",
       "      <td>355.652264</td>\n",
       "      <td>392.326431</td>\n",
       "    </tr>\n",
       "    <tr>\n",
       "      <td>2017-03-25</td>\n",
       "      <td>286.705586</td>\n",
       "      <td>355.652264</td>\n",
       "    </tr>\n",
       "    <tr>\n",
       "      <td>2017-04-22</td>\n",
       "      <td>361.444714</td>\n",
       "      <td>286.705586</td>\n",
       "    </tr>\n",
       "    <tr>\n",
       "      <td>2017-05-20</td>\n",
       "      <td>378.273911</td>\n",
       "      <td>361.444714</td>\n",
       "    </tr>\n",
       "    <tr>\n",
       "      <td>2017-06-17</td>\n",
       "      <td>300.922056</td>\n",
       "      <td>378.273911</td>\n",
       "    </tr>\n",
       "    <tr>\n",
       "      <td>2017-07-15</td>\n",
       "      <td>367.547047</td>\n",
       "      <td>300.922056</td>\n",
       "    </tr>\n",
       "    <tr>\n",
       "      <td>2017-08-12</td>\n",
       "      <td>385.537890</td>\n",
       "      <td>367.547047</td>\n",
       "    </tr>\n",
       "    <tr>\n",
       "      <td>2017-09-09</td>\n",
       "      <td>332.150377</td>\n",
       "      <td>385.537890</td>\n",
       "    </tr>\n",
       "    <tr>\n",
       "      <td>2017-10-07</td>\n",
       "      <td>237.713584</td>\n",
       "      <td>332.150377</td>\n",
       "    </tr>\n",
       "    <tr>\n",
       "      <td>2017-11-04</td>\n",
       "      <td>193.300754</td>\n",
       "      <td>237.713584</td>\n",
       "    </tr>\n",
       "    <tr>\n",
       "      <td>2017-12-02</td>\n",
       "      <td>179.292504</td>\n",
       "      <td>193.300754</td>\n",
       "    </tr>\n",
       "    <tr>\n",
       "      <td>2017-12-30</td>\n",
       "      <td>173.237305</td>\n",
       "      <td>179.292504</td>\n",
       "    </tr>\n",
       "    <tr>\n",
       "      <td>2018-01-28</td>\n",
       "      <td>247.315476</td>\n",
       "      <td>173.237305</td>\n",
       "    </tr>\n",
       "    <tr>\n",
       "      <td>2018-02-25</td>\n",
       "      <td>284.183292</td>\n",
       "      <td>247.315476</td>\n",
       "    </tr>\n",
       "    <tr>\n",
       "      <td>2018-03-25</td>\n",
       "      <td>274.430757</td>\n",
       "      <td>284.183292</td>\n",
       "    </tr>\n",
       "    <tr>\n",
       "      <td>2018-04-22</td>\n",
       "      <td>205.499984</td>\n",
       "      <td>274.430757</td>\n",
       "    </tr>\n",
       "    <tr>\n",
       "      <td>2018-05-20</td>\n",
       "      <td>250.555064</td>\n",
       "      <td>205.499984</td>\n",
       "    </tr>\n",
       "    <tr>\n",
       "      <td>2018-06-17</td>\n",
       "      <td>278.317524</td>\n",
       "      <td>250.555064</td>\n",
       "    </tr>\n",
       "    <tr>\n",
       "      <td>2018-07-15</td>\n",
       "      <td>284.895480</td>\n",
       "      <td>278.317524</td>\n",
       "    </tr>\n",
       "    <tr>\n",
       "      <td>2018-08-12</td>\n",
       "      <td>244.931359</td>\n",
       "      <td>284.895480</td>\n",
       "    </tr>\n",
       "    <tr>\n",
       "      <td>2018-09-09</td>\n",
       "      <td>175.432319</td>\n",
       "      <td>244.931359</td>\n",
       "    </tr>\n",
       "    <tr>\n",
       "      <td>2018-10-07</td>\n",
       "      <td>168.106665</td>\n",
       "      <td>175.432319</td>\n",
       "    </tr>\n",
       "    <tr>\n",
       "      <td>2018-11-04</td>\n",
       "      <td>161.529279</td>\n",
       "      <td>168.106665</td>\n",
       "    </tr>\n",
       "    <tr>\n",
       "      <td>2018-12-02</td>\n",
       "      <td>151.642231</td>\n",
       "      <td>161.529279</td>\n",
       "    </tr>\n",
       "    <tr>\n",
       "      <td>2018-12-30</td>\n",
       "      <td>130.937361</td>\n",
       "      <td>151.642231</td>\n",
       "    </tr>\n",
       "  </tbody>\n",
       "</table>\n",
       "</div>"
      ],
      "text/plain": [
       "            Actual_sales  Forecast_sales\n",
       "PERIOD                                  \n",
       "2016-01-28    504.784933             NaN\n",
       "2016-02-25    490.226477      504.784933\n",
       "2016-03-24    479.244686      490.226477\n",
       "2016-04-21    489.057428      479.244686\n",
       "2016-05-19    477.031994      489.057428\n",
       "2016-06-16    487.855299      477.031994\n",
       "2016-07-14    466.399281      487.855299\n",
       "2016-08-11    546.053084      466.399281\n",
       "2016-09-08    464.925607      546.053084\n",
       "2016-10-06    357.648693      464.925607\n",
       "2016-11-03    298.553287      357.648693\n",
       "2016-12-01    283.797430      298.553287\n",
       "2016-12-29    239.231622      283.797430\n",
       "2017-01-28    392.326431      239.231622\n",
       "2017-02-25    355.652264      392.326431\n",
       "2017-03-25    286.705586      355.652264\n",
       "2017-04-22    361.444714      286.705586\n",
       "2017-05-20    378.273911      361.444714\n",
       "2017-06-17    300.922056      378.273911\n",
       "2017-07-15    367.547047      300.922056\n",
       "2017-08-12    385.537890      367.547047\n",
       "2017-09-09    332.150377      385.537890\n",
       "2017-10-07    237.713584      332.150377\n",
       "2017-11-04    193.300754      237.713584\n",
       "2017-12-02    179.292504      193.300754\n",
       "2017-12-30    173.237305      179.292504\n",
       "2018-01-28    247.315476      173.237305\n",
       "2018-02-25    284.183292      247.315476\n",
       "2018-03-25    274.430757      284.183292\n",
       "2018-04-22    205.499984      274.430757\n",
       "2018-05-20    250.555064      205.499984\n",
       "2018-06-17    278.317524      250.555064\n",
       "2018-07-15    284.895480      278.317524\n",
       "2018-08-12    244.931359      284.895480\n",
       "2018-09-09    175.432319      244.931359\n",
       "2018-10-07    168.106665      175.432319\n",
       "2018-11-04    161.529279      168.106665\n",
       "2018-12-02    151.642231      161.529279\n",
       "2018-12-30    130.937361      151.642231"
      ]
     },
     "execution_count": 13,
     "metadata": {},
     "output_type": "execute_result"
    }
   ],
   "source": [
    "df_base"
   ]
  },
  {
   "cell_type": "code",
   "execution_count": 14,
   "metadata": {},
   "outputs": [],
   "source": [
    "df_base.dropna(inplace=True)"
   ]
  },
  {
   "cell_type": "code",
   "execution_count": 15,
   "metadata": {},
   "outputs": [
    {
     "data": {
      "text/html": [
       "<div>\n",
       "<style scoped>\n",
       "    .dataframe tbody tr th:only-of-type {\n",
       "        vertical-align: middle;\n",
       "    }\n",
       "\n",
       "    .dataframe tbody tr th {\n",
       "        vertical-align: top;\n",
       "    }\n",
       "\n",
       "    .dataframe thead th {\n",
       "        text-align: right;\n",
       "    }\n",
       "</style>\n",
       "<table border=\"1\" class=\"dataframe\">\n",
       "  <thead>\n",
       "    <tr style=\"text-align: right;\">\n",
       "      <th></th>\n",
       "      <th>Actual_sales</th>\n",
       "      <th>Forecast_sales</th>\n",
       "    </tr>\n",
       "    <tr>\n",
       "      <th>PERIOD</th>\n",
       "      <th></th>\n",
       "      <th></th>\n",
       "    </tr>\n",
       "  </thead>\n",
       "  <tbody>\n",
       "    <tr>\n",
       "      <td>2016-02-25</td>\n",
       "      <td>490.226477</td>\n",
       "      <td>504.784933</td>\n",
       "    </tr>\n",
       "    <tr>\n",
       "      <td>2016-03-24</td>\n",
       "      <td>479.244686</td>\n",
       "      <td>490.226477</td>\n",
       "    </tr>\n",
       "    <tr>\n",
       "      <td>2016-04-21</td>\n",
       "      <td>489.057428</td>\n",
       "      <td>479.244686</td>\n",
       "    </tr>\n",
       "    <tr>\n",
       "      <td>2016-05-19</td>\n",
       "      <td>477.031994</td>\n",
       "      <td>489.057428</td>\n",
       "    </tr>\n",
       "    <tr>\n",
       "      <td>2016-06-16</td>\n",
       "      <td>487.855299</td>\n",
       "      <td>477.031994</td>\n",
       "    </tr>\n",
       "  </tbody>\n",
       "</table>\n",
       "</div>"
      ],
      "text/plain": [
       "            Actual_sales  Forecast_sales\n",
       "PERIOD                                  \n",
       "2016-02-25    490.226477      504.784933\n",
       "2016-03-24    479.244686      490.226477\n",
       "2016-04-21    489.057428      479.244686\n",
       "2016-05-19    477.031994      489.057428\n",
       "2016-06-16    487.855299      477.031994"
      ]
     },
     "execution_count": 15,
     "metadata": {},
     "output_type": "execute_result"
    }
   ],
   "source": [
    "df_base.head()"
   ]
  },
  {
   "cell_type": "code",
   "execution_count": 16,
   "metadata": {},
   "outputs": [],
   "source": [
    "from sklearn.metrics import mean_squared_error"
   ]
  },
  {
   "cell_type": "code",
   "execution_count": 17,
   "metadata": {},
   "outputs": [],
   "source": [
    "df_error=mean_squared_error(df_base.Actual_sales,df_base.Forecast_sales)"
   ]
  },
  {
   "cell_type": "code",
   "execution_count": 18,
   "metadata": {},
   "outputs": [
    {
     "data": {
      "text/plain": [
       "2973.563071581233"
      ]
     },
     "execution_count": 18,
     "metadata": {},
     "output_type": "execute_result"
    }
   ],
   "source": [
    "df_error"
   ]
  },
  {
   "cell_type": "code",
   "execution_count": 19,
   "metadata": {},
   "outputs": [
    {
     "data": {
      "text/plain": [
       "54.53038668101697"
      ]
     },
     "execution_count": 19,
     "metadata": {},
     "output_type": "execute_result"
    }
   ],
   "source": [
    "np.sqrt(df_error)"
   ]
  },
  {
   "cell_type": "code",
   "execution_count": 20,
   "metadata": {},
   "outputs": [],
   "source": [
    "from statsmodels.graphics.tsaplots import plot_acf,plot_pacf"
   ]
  },
  {
   "cell_type": "code",
   "execution_count": 21,
   "metadata": {},
   "outputs": [
    {
     "data": {
      "image/png": "[encoded data removed]",
      "text/plain": [
       "<Figure size 432x288 with 1 Axes>"
      ]
     },
     "execution_count": 21,
     "metadata": {},
     "output_type": "execute_result"
    },
    {
     "data": {
      "image/png": "[encoded data removed]",
      "text/plain": [
       "<Figure size 432x288 with 1 Axes>"
      ]
     },
     "metadata": {
      "needs_background": "light"
     },
     "output_type": "display_data"
    }
   ],
   "source": [
    "plot_acf(df)"
   ]
  },
  {
   "cell_type": "code",
   "execution_count": 22,
   "metadata": {},
   "outputs": [
    {
     "name": "stderr",
     "output_type": "stream",
     "text": [
      "C:\\Users\\Pc\\Anaconda3\\Anaconda\\lib\\site-packages\\statsmodels\\regression\\linear_model.py:1358: RuntimeWarning: invalid value encountered in sqrt\n",
      "  return rho, np.sqrt(sigmasq)\n"
     ]
    },
    {
     "data": {
      "image/png": "[encoded data removed]",
      "text/plain": [
       "<Figure size 432x288 with 1 Axes>"
      ]
     },
     "execution_count": 22,
     "metadata": {},
     "output_type": "execute_result"
    },
    {
     "data": {
      "image/png": "[encoded data removed]",
      "text/plain": [
       "<Figure size 432x288 with 1 Axes>"
      ]
     },
     "metadata": {
      "needs_background": "light"
     },
     "output_type": "display_data"
    }
   ],
   "source": [
    "# Q-0,p-1,d-0-1\n",
    "plot_pacf(df)"
   ]
  },
  {
   "cell_type": "code",
   "execution_count": 23,
   "metadata": {},
   "outputs": [],
   "source": [
    "from statsmodels.tsa.arima_model import ARIMA"
   ]
  },
  {
   "cell_type": "code",
   "execution_count": 24,
   "metadata": {},
   "outputs": [],
   "source": [
    "df_train=df[0:25]\n",
    "df_test=df[25:40]"
   ]
  },
  {
   "cell_type": "code",
   "execution_count": 25,
   "metadata": {},
   "outputs": [
    {
     "name": "stderr",
     "output_type": "stream",
     "text": [
      "C:\\Users\\Pc\\Anaconda3\\Anaconda\\lib\\site-packages\\statsmodels\\tsa\\base\\tsa_model.py:219: ValueWarning: A date index has been provided, but it has no associated frequency information and so will be ignored when e.g. forecasting.\n",
      "  ' ignored when e.g. forecasting.', ValueWarning)\n"
     ]
    }
   ],
   "source": [
    "df_model=ARIMA(df_train,order=(1,0,1))"
   ]
  },
  {
   "cell_type": "code",
   "execution_count": 26,
   "metadata": {},
   "outputs": [],
   "source": [
    "df_model_fit= df_model.fit()"
   ]
  },
  {
   "cell_type": "code",
   "execution_count": 29,
   "metadata": {},
   "outputs": [
    {
     "data": {
      "text/plain": [
       "284.88142909091835"
      ]
     },
     "execution_count": 29,
     "metadata": {},
     "output_type": "execute_result"
    }
   ],
   "source": [
    "df_model_fit.aic"
   ]
  },
  {
   "cell_type": "code",
   "execution_count": 30,
   "metadata": {},
   "outputs": [],
   "source": [
    "df_forecast=df_model_fit.forecast(steps=14)[0]"
   ]
  },
  {
   "cell_type": "code",
   "execution_count": 35,
   "metadata": {},
   "outputs": [],
   "source": [
    "df_forecast=pd.DataFrame(df_forecast)"
   ]
  },
  {
   "cell_type": "code",
   "execution_count": 36,
   "metadata": {},
   "outputs": [
    {
     "data": {
      "text/html": [
       "<div>\n",
       "<style scoped>\n",
       "    .dataframe tbody tr th:only-of-type {\n",
       "        vertical-align: middle;\n",
       "    }\n",
       "\n",
       "    .dataframe tbody tr th {\n",
       "        vertical-align: top;\n",
       "    }\n",
       "\n",
       "    .dataframe thead th {\n",
       "        text-align: right;\n",
       "    }\n",
       "</style>\n",
       "<table border=\"1\" class=\"dataframe\">\n",
       "  <thead>\n",
       "    <tr style=\"text-align: right;\">\n",
       "      <th></th>\n",
       "      <th>0</th>\n",
       "    </tr>\n",
       "  </thead>\n",
       "  <tbody>\n",
       "    <tr>\n",
       "      <td>0</td>\n",
       "      <td>210.152378</td>\n",
       "    </tr>\n",
       "    <tr>\n",
       "      <td>1</td>\n",
       "      <td>240.816579</td>\n",
       "    </tr>\n",
       "    <tr>\n",
       "      <td>2</td>\n",
       "      <td>265.454043</td>\n",
       "    </tr>\n",
       "    <tr>\n",
       "      <td>3</td>\n",
       "      <td>285.249264</td>\n",
       "    </tr>\n",
       "    <tr>\n",
       "      <td>4</td>\n",
       "      <td>301.153935</td>\n",
       "    </tr>\n",
       "    <tr>\n",
       "      <td>5</td>\n",
       "      <td>313.932706</td>\n",
       "    </tr>\n",
       "    <tr>\n",
       "      <td>6</td>\n",
       "      <td>324.199939</td>\n",
       "    </tr>\n",
       "    <tr>\n",
       "      <td>7</td>\n",
       "      <td>332.449251</td>\n",
       "    </tr>\n",
       "    <tr>\n",
       "      <td>8</td>\n",
       "      <td>339.077245</td>\n",
       "    </tr>\n",
       "    <tr>\n",
       "      <td>9</td>\n",
       "      <td>344.402575</td>\n",
       "    </tr>\n",
       "    <tr>\n",
       "      <td>10</td>\n",
       "      <td>348.681265</td>\n",
       "    </tr>\n",
       "    <tr>\n",
       "      <td>11</td>\n",
       "      <td>352.119022</td>\n",
       "    </tr>\n",
       "    <tr>\n",
       "      <td>12</td>\n",
       "      <td>354.881123</td>\n",
       "    </tr>\n",
       "    <tr>\n",
       "      <td>13</td>\n",
       "      <td>357.100361</td>\n",
       "    </tr>\n",
       "  </tbody>\n",
       "</table>\n",
       "</div>"
      ],
      "text/plain": [
       "             0\n",
       "0   210.152378\n",
       "1   240.816579\n",
       "2   265.454043\n",
       "3   285.249264\n",
       "4   301.153935\n",
       "5   313.932706\n",
       "6   324.199939\n",
       "7   332.449251\n",
       "8   339.077245\n",
       "9   344.402575\n",
       "10  348.681265\n",
       "11  352.119022\n",
       "12  354.881123\n",
       "13  357.100361"
      ]
     },
     "execution_count": 36,
     "metadata": {},
     "output_type": "execute_result"
    }
   ],
   "source": [
    "df_forecast"
   ]
  },
  {
   "cell_type": "code",
   "execution_count": 89,
   "metadata": {},
   "outputs": [
    {
     "data": {
      "text/html": [
       "<div>\n",
       "<style scoped>\n",
       "    .dataframe tbody tr th:only-of-type {\n",
       "        vertical-align: middle;\n",
       "    }\n",
       "\n",
       "    .dataframe tbody tr th {\n",
       "        vertical-align: top;\n",
       "    }\n",
       "\n",
       "    .dataframe thead th {\n",
       "        text-align: right;\n",
       "    }\n",
       "</style>\n",
       "<table border=\"1\" class=\"dataframe\">\n",
       "  <thead>\n",
       "    <tr style=\"text-align: right;\">\n",
       "      <th></th>\n",
       "      <th>EQ</th>\n",
       "    </tr>\n",
       "    <tr>\n",
       "      <th>PERIOD</th>\n",
       "      <th></th>\n",
       "    </tr>\n",
       "  </thead>\n",
       "  <tbody>\n",
       "    <tr>\n",
       "      <td>2017-12-30</td>\n",
       "      <td>173.237305</td>\n",
       "    </tr>\n",
       "    <tr>\n",
       "      <td>2018-01-28</td>\n",
       "      <td>247.315476</td>\n",
       "    </tr>\n",
       "    <tr>\n",
       "      <td>2018-02-25</td>\n",
       "      <td>284.183292</td>\n",
       "    </tr>\n",
       "    <tr>\n",
       "      <td>2018-03-25</td>\n",
       "      <td>274.430757</td>\n",
       "    </tr>\n",
       "    <tr>\n",
       "      <td>2018-04-22</td>\n",
       "      <td>205.499984</td>\n",
       "    </tr>\n",
       "    <tr>\n",
       "      <td>2018-05-20</td>\n",
       "      <td>250.555064</td>\n",
       "    </tr>\n",
       "    <tr>\n",
       "      <td>2018-06-17</td>\n",
       "      <td>278.317524</td>\n",
       "    </tr>\n",
       "    <tr>\n",
       "      <td>2018-07-15</td>\n",
       "      <td>284.895480</td>\n",
       "    </tr>\n",
       "    <tr>\n",
       "      <td>2018-08-12</td>\n",
       "      <td>244.931359</td>\n",
       "    </tr>\n",
       "    <tr>\n",
       "      <td>2018-09-09</td>\n",
       "      <td>175.432319</td>\n",
       "    </tr>\n",
       "    <tr>\n",
       "      <td>2018-10-07</td>\n",
       "      <td>168.106665</td>\n",
       "    </tr>\n",
       "    <tr>\n",
       "      <td>2018-11-04</td>\n",
       "      <td>161.529279</td>\n",
       "    </tr>\n",
       "    <tr>\n",
       "      <td>2018-12-02</td>\n",
       "      <td>151.642231</td>\n",
       "    </tr>\n",
       "    <tr>\n",
       "      <td>2018-12-30</td>\n",
       "      <td>130.937361</td>\n",
       "    </tr>\n",
       "  </tbody>\n",
       "</table>\n",
       "</div>"
      ],
      "text/plain": [
       "                    EQ\n",
       "PERIOD                \n",
       "2017-12-30  173.237305\n",
       "2018-01-28  247.315476\n",
       "2018-02-25  284.183292\n",
       "2018-03-25  274.430757\n",
       "2018-04-22  205.499984\n",
       "2018-05-20  250.555064\n",
       "2018-06-17  278.317524\n",
       "2018-07-15  284.895480\n",
       "2018-08-12  244.931359\n",
       "2018-09-09  175.432319\n",
       "2018-10-07  168.106665\n",
       "2018-11-04  161.529279\n",
       "2018-12-02  151.642231\n",
       "2018-12-30  130.937361"
      ]
     },
     "execution_count": 89,
     "metadata": {},
     "output_type": "execute_result"
    }
   ],
   "source": [
    "df_test"
   ]
  },
  {
   "cell_type": "code",
   "execution_count": 27,
   "metadata": {},
   "outputs": [
    {
     "data": {
      "text/plain": [
       "<matplotlib.axes._subplots.AxesSubplot at 0x1742a329448>"
      ]
     },
     "execution_count": 27,
     "metadata": {},
     "output_type": "execute_result"
    },
    {
     "data": {
      "image/png": "[encoded data removed]",
      "text/plain": [
       "<Figure size 432x288 with 1 Axes>"
      ]
     },
     "metadata": {
      "needs_background": "light"
     },
     "output_type": "display_data"
    }
   ],
   "source": [
    "df_base.plot()"
   ]
  },
  {
   "cell_type": "code",
   "execution_count": 53,
   "metadata": {},
   "outputs": [],
   "source": [
    "df['forecast']=df_model_fit.forecast(steps=39)[0]"
   ]
  },
  {
   "cell_type": "code",
   "execution_count": 55,
   "metadata": {},
   "outputs": [
    {
     "data": {
      "text/plain": [
       "<matplotlib.axes._subplots.AxesSubplot at 0x1742ae58f48>"
      ]
     },
     "execution_count": 55,
     "metadata": {},
     "output_type": "execute_result"
    },
    {
     "data": {
      "image/png": "[encoded data removed]",
      "text/plain": [
       "<Figure size 864x576 with 1 Axes>"
      ]
     },
     "metadata": {
      "needs_background": "light"
     },
     "output_type": "display_data"
    }
   ],
   "source": [
    "df[['EQ','forecast']].plot(figsize=(12,8))"
   ]
  },
  {
   "cell_type": "code",
   "execution_count": 46,
   "metadata": {},
   "outputs": [
    {
     "data": {
      "text/plain": [
       "<matplotlib.axes._subplots.AxesSubplot at 0x1742ae50bc8>"
      ]
     },
     "execution_count": 46,
     "metadata": {},
     "output_type": "execute_result"
    },
    {
     "data": {
      "image/png": "[encoded data removed]",
      "text/plain": [
       "<Figure size 432x288 with 1 Axes>"
      ]
     },
     "metadata": {
      "needs_background": "light"
     },
     "output_type": "display_data"
    }
   ],
   "source": [
    "dff.plot()"
   ]
  },
  {
   "cell_type": "code",
   "execution_count": 90,
   "metadata": {},
   "outputs": [
    {
     "data": {
      "text/plain": [
       "124.844910929204"
      ]
     },
     "execution_count": 90,
     "metadata": {},
     "output_type": "execute_result"
    }
   ],
   "source": [
    "np.sqrt(mean_squared_error(df_test,df_forecast))"
   ]
  },
  {
   "cell_type": "code",
   "execution_count": 63,
   "metadata": {},
   "outputs": [],
   "source": [
    "p_values=range(0,5)\n",
    "d_values=range(0,3)\n",
    "q_values=range(0,5)"
   ]
  },
  {
   "cell_type": "code",
   "execution_count": 64,
   "metadata": {},
   "outputs": [],
   "source": [
    "import warnings\n",
    "warnings.filterwarnings('ignore')"
   ]
  },
  {
   "cell_type": "code",
   "execution_count": 96,
   "metadata": {},
   "outputs": [
    {
     "name": "stdout",
     "output_type": "stream",
     "text": [
      "ARIMA(0, 0, 0) RMSE=27729.26\n",
      "ARIMA(0, 0, 1) RMSE=7932.85\n",
      "ARIMA(0, 0, 2) RMSE=4558.47\n",
      "ARIMA(0, 1, 0) RMSE=5429.41\n",
      "ARIMA(0, 1, 1) RMSE=5342.93\n",
      "ARIMA(0, 1, 2) RMSE=3002.96\n",
      "ARIMA(0, 1, 3) RMSE=3134.31\n",
      "ARIMA(0, 1, 4) RMSE=2961.43\n",
      "ARIMA(0, 2, 0) RMSE=5472.45\n",
      "ARIMA(0, 2, 1) RMSE=6433.53\n",
      "ARIMA(1, 0, 0) RMSE=2965.59\n",
      "ARIMA(1, 0, 1) RMSE=2892.05\n",
      "ARIMA(1, 0, 2) RMSE=4508.15\n",
      "ARIMA(1, 0, 3) RMSE=33652.78\n",
      "ARIMA(1, 0, 4) RMSE=3097.05\n",
      "ARIMA(1, 1, 0) RMSE=5425.79\n",
      "ARIMA(1, 2, 0) RMSE=6927.95\n",
      "ARIMA(1, 2, 1) RMSE=6476.17\n",
      "ARIMA(1, 2, 2) RMSE=6379.47\n",
      "ARIMA(2, 0, 0) RMSE=2918.45\n",
      "ARIMA(2, 0, 1) RMSE=2970.11\n",
      "ARIMA(2, 0, 2) RMSE=5048.29\n",
      "ARIMA(2, 0, 3) RMSE=7464.67\n",
      "ARIMA(2, 1, 0) RMSE=4667.34\n",
      "ARIMA(2, 1, 1) RMSE=5126.44\n",
      "ARIMA(2, 2, 0) RMSE=12837.45\n",
      "ARIMA(2, 2, 1) RMSE=5764.82\n",
      "ARIMA(2, 2, 2) RMSE=6299.95\n",
      "ARIMA(3, 0, 0) RMSE=2923.19\n",
      "ARIMA(3, 0, 1) RMSE=3002.83\n",
      "ARIMA(3, 1, 0) RMSE=5505.79\n",
      "ARIMA(3, 1, 1) RMSE=5490.25\n",
      "ARIMA(3, 1, 2) RMSE=3378.00\n",
      "ARIMA(3, 2, 0) RMSE=13433.02\n",
      "ARIMA(3, 2, 1) RMSE=7518.65\n",
      "ARIMA(3, 2, 2) RMSE=3706.35\n",
      "ARIMA(4, 0, 0) RMSE=3419.38\n",
      "ARIMA(4, 0, 1) RMSE=3380.32\n",
      "ARIMA(4, 1, 0) RMSE=4473.54\n",
      "ARIMA(4, 1, 1) RMSE=4459.72\n",
      "ARIMA(4, 1, 2) RMSE=6218.07\n",
      "ARIMA(4, 2, 0) RMSE=13242.14\n",
      "ARIMA(4, 2, 1) RMSE=6314.26\n",
      "ARIMA(4, 2, 2) RMSE=4668.92\n"
     ]
    }
   ],
   "source": [
    "for p in p_values:\n",
    "    for d in d_values:\n",
    "        for q in q_values:\n",
    "            order=(p,d,q)\n",
    "            train,test=df[0:25],df[25:40]\n",
    "            predictions=list()\n",
    "            for i in range(len(test)):\n",
    "                try:\n",
    "                    model= ARIMA(train,order)\n",
    "                    model_fit=model.fit(disp=0)\n",
    "                    pred_y=model_fit.forecast()[0]\n",
    "                    predictions.append(pred_y)\n",
    "                    error=mean_squared_error(test,predictions)\n",
    "                    print('ARIMA%s RMSE=%.2f'% (order,error))\n",
    "                except:\n",
    "                    continue"
   ]
  },
  {
   "cell_type": "code",
   "execution_count": 67,
   "metadata": {},
   "outputs": [],
   "source": [
    "def mean_absolute_percentage_error(y_true, y_pred): \n",
    "    y_true, y_pred = np.array(y_true), np.array(y_pred)\n",
    "    return np.mean(np.abs((y_true - y_pred) / y_true)) * 100"
   ]
  },
  {
   "cell_type": "code",
   "execution_count": 68,
   "metadata": {},
   "outputs": [
    {
     "data": {
      "text/plain": [
       "56.196680870065705"
      ]
     },
     "execution_count": 68,
     "metadata": {},
     "output_type": "execute_result"
    }
   ],
   "source": [
    "mean_absolute_percentage_error(df_test,df_forecast)"
   ]
  },
  {
   "cell_type": "code",
   "execution_count": null,
   "metadata": {},
   "outputs": [],
   "source": []
  }
 ],
 "metadata": {
  "kernelspec": {
   "display_name": "Python 3",
   "language": "python",
   "name": "python3"
  },
  "language_info": {
   "codemirror_mode": {
    "name": "ipython",
    "version": 3
   },
   "file_extension": ".py",
   "mimetype": "text/x-python",
   "name": "python",
   "nbconvert_exporter": "python",
   "pygments_lexer": "ipython3",
   "version": "3.7.4"
  }
 },
 "nbformat": 4,
 "nbformat_minor": 2
}
